{
 "cells": [
  {
   "cell_type": "code",
   "execution_count": 1,
   "metadata": {},
   "outputs": [
    {
     "name": "stdout",
     "output_type": "stream",
     "text": [
      "  Symbol     Security             GICS Sector               GICS Sub-Industry  \\\n",
      "0    MMM           3M             Industrials        Industrial Conglomerates   \n",
      "1    AOS  A. O. Smith             Industrials               Building Products   \n",
      "2    ABT       Abbott             Health Care           Health Care Equipment   \n",
      "3   ABBV       AbbVie             Health Care                   Biotechnology   \n",
      "4    ACN    Accenture  Information Technology  IT Consulting & Other Services   \n",
      "\n",
      "     Headquarters Location  Date added      CIK      Founded  \n",
      "0    Saint Paul, Minnesota  1957-03-04    66740         1902  \n",
      "1     Milwaukee, Wisconsin  2017-07-26    91142         1916  \n",
      "2  North Chicago, Illinois  1957-03-04     1800         1888  \n",
      "3  North Chicago, Illinois  2012-12-31  1551152  2013 (1888)  \n",
      "4          Dublin, Ireland  2011-07-06  1467373         1989  \n",
      "[*********************100%***********************]  503 of 503 completed"
     ]
    },
    {
     "name": "stderr",
     "output_type": "stream",
     "text": [
      "\n",
      "6 Failed downloads:\n",
      "['BF.B']: Exception('%ticker%: No price data found, symbol may be delisted (1d 2021-1-1 -> 2021-7-12)')\n",
      "['CEG', 'VLTO', 'GEHC', 'KVUE']: Exception(\"%ticker%: Data doesn't exist for startDate = 1609477200, endDate = 1626062400\")\n",
      "['BRK.B']: Exception('%ticker%: No timezone found, symbol may be delisted')\n"
     ]
    },
    {
     "name": "stdout",
     "output_type": "stream",
     "text": [
      "\n",
      "                              A    AAL        AAPL       ABBV        ABNB  \\\n",
      "Date                                                                        \n",
      "2021-01-04 00:00:00  116.384750  15.13  127.002075  92.173622  139.149994   \n",
      "2021-01-05 00:00:00  117.336311  15.43  128.572327  93.126755  148.300003   \n",
      "2021-01-06 00:00:00  120.553955  15.52  124.244377  92.322273  142.770004   \n",
      "2021-01-07 00:00:00  123.761803  15.38  128.484009  93.310371  151.270004   \n",
      "2021-01-08 00:00:00  124.644691  15.13  129.592972  93.800064  149.770004   \n",
      "\n",
      "                            ABT       ACGL         ACN        ADBE  \\\n",
      "Date                                                                 \n",
      "2021-01-04 00:00:00  103.105209  34.900002  245.115555  485.339996   \n",
      "2021-01-05 00:00:00  104.380898  35.040001  246.510986  485.690002   \n",
      "2021-01-06 00:00:00  104.163551  36.580002  249.206268  466.309998   \n",
      "2021-01-07 00:00:00  105.174683  36.240002  251.557434  477.739990   \n",
      "2021-01-08 00:00:00  105.467613  36.439999  252.474976  485.100006   \n",
      "\n",
      "                            ADI  ...        WYNN        XEL        XOM  \\\n",
      "Date                             ...                                     \n",
      "2021-01-04 00:00:00  138.322723  ...  105.816544  60.077137  36.027855   \n",
      "2021-01-05 00:00:00  140.795166  ...  109.073212  59.491558  37.764141   \n",
      "2021-01-06 00:00:00  141.429840  ...  109.726524  60.809113  38.727776   \n",
      "2021-01-07 00:00:00  147.407211  ...  108.637672  59.619652  39.031620   \n",
      "2021-01-08 00:00:00  148.477661  ...  107.924957  60.168644  39.465694   \n",
      "\n",
      "                          XRAY         XYL         YUM         ZBH  \\\n",
      "Date                                                                 \n",
      "2021-01-04 00:00:00  51.809113   96.228081  100.226845  145.390533   \n",
      "2021-01-05 00:00:00  53.293499   96.112221  100.236336  147.906097   \n",
      "2021-01-06 00:00:00  55.867088  100.166359  100.785683  152.120850   \n",
      "2021-01-07 00:00:00  55.577927  104.712814  100.018478  151.219055   \n",
      "2021-01-08 00:00:00  56.079144  103.651016  101.486565  150.886810   \n",
      "\n",
      "                           ZBRA       ZION         ZTS  \n",
      "Date                                                    \n",
      "2021-01-04 00:00:00  378.130005  38.393208  159.686432  \n",
      "2021-01-05 00:00:00  380.570007  39.001347  160.799255  \n",
      "2021-01-06 00:00:00  394.820007  43.383514  163.161514  \n",
      "2021-01-07 00:00:00  409.100006  44.707115  163.015060  \n",
      "2021-01-08 00:00:00  405.470001  43.571320  164.098572  \n",
      "\n",
      "[5 rows x 503 columns]\n"
     ]
    }
   ],
   "source": [
    "# Import packages\n",
    "import yfinance as yf\n",
    "import pandas as pd\n",
    "\n",
    "# Read and print the stock tickers that make up S&P500\n",
    "tickers = pd.read_html(\n",
    "    'https://en.wikipedia.org/wiki/List_of_S%26P_500_companies')[0]\n",
    "print(tickers.head())\n",
    "\n",
    "# Get the data for this tickers from yahoo finance\n",
    "data = yf.download(tickers.Symbol.to_list(), '2021-1-1',\n",
    "                   '2021-7-12', auto_adjust=True)['Close']\n",
    "print(data.head())"
   ]
  },
  {
   "cell_type": "code",
   "execution_count": null,
   "metadata": {},
   "outputs": [],
   "source": [
    "data.to_csv('S&P500.csv')"
   ]
  }
 ],
 "metadata": {
  "kernelspec": {
   "display_name": "Python 3",
   "language": "python",
   "name": "python3"
  },
  "language_info": {
   "codemirror_mode": {
    "name": "ipython",
    "version": 3
   },
   "file_extension": ".py",
   "mimetype": "text/x-python",
   "name": "python",
   "nbconvert_exporter": "python",
   "pygments_lexer": "ipython3",
   "version": "3.11.4"
  }
 },
 "nbformat": 4,
 "nbformat_minor": 2
}
