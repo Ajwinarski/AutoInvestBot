{
 "cells": [
  {
   "cell_type": "code",
   "execution_count": 14,
   "metadata": {},
   "outputs": [],
   "source": [
    "import os\n",
    "import yfinance as yf\n",
    "\n",
    "def download_stock_data(stock: str = \"TSLA\", location: str = \"../db/watchlist/\"):\n",
    "        symbols = []\n",
    "\n",
    "        try:\n",
    "            os.listdir(location)\n",
    "\n",
    "            if stock not in os.listdir(location):\n",
    "                try:\n",
    "                    data = yf.get_data(stock, interval=\"1mo\")\n",
    "                    data.to_csv('../db/watchlist/'+stock+'.csv')\n",
    "                    symbols.append(stock)\n",
    "                except:\n",
    "                    print(\"Stock symbol not found\")\n",
    "        except:\n",
    "            pass\n",
    "        \n",
    "        return symbols"
   ]
  },
  {
   "cell_type": "code",
   "execution_count": 15,
   "metadata": {},
   "outputs": [
    {
     "name": "stdout",
     "output_type": "stream",
     "text": [
      "[*********************100%***********************]  1 of 1 completed\n",
      "\n",
      "1 Failed download:\n",
      "- TSLA: No timezone found, symbol may be delisted\n"
     ]
    },
    {
     "data": {
      "text/plain": [
       "['TSLA']"
      ]
     },
     "execution_count": 15,
     "metadata": {},
     "output_type": "execute_result"
    }
   ],
   "source": [
    "download_stock_data()"
   ]
  }
 ],
 "metadata": {
  "kernelspec": {
   "display_name": "Python 3",
   "language": "python",
   "name": "python3"
  },
  "language_info": {
   "codemirror_mode": {
    "name": "ipython",
    "version": 3
   },
   "file_extension": ".py",
   "mimetype": "text/x-python",
   "name": "python",
   "nbconvert_exporter": "python",
   "pygments_lexer": "ipython3",
   "version": "3.8.3"
  }
 },
 "nbformat": 4,
 "nbformat_minor": 2
}
