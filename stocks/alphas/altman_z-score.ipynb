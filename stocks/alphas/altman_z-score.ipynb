{
 "cells": [
  {
   "cell_type": "code",
   "execution_count": 40,
   "metadata": {},
   "outputs": [],
   "source": [
    "import pandas as pd\n",
    "import numpy as np \n",
    "import matplotlib.pyplot as plt \n",
    "from datetime import date\n",
    "from datetime import datetime\n",
    "import requests\n",
    "import json\n",
    "import yfinance as yf\n",
    "plt.style.use('ggplot')"
   ]
  },
  {
   "attachments": {
    "image.png": {
     "image/png": "[encoded data removed]"
    }
   },
   "cell_type": "markdown",
   "metadata": {},
   "source": [
    "![image.png](attachment:image.png)\n"
   ]
  },
  {
   "cell_type": "code",
   "execution_count": 48,
   "metadata": {},
   "outputs": [
    {
     "ename": "NameError",
     "evalue": "name 'yf' is not defined",
     "output_type": "error",
     "traceback": [
      "\u001b[1;31m---------------------------------------------------------------------------\u001b[0m",
      "\u001b[1;31mNameError\u001b[0m                                 Traceback (most recent call last)",
      "Cell \u001b[1;32mIn[48], line 7\u001b[0m\n\u001b[0;32m      4\u001b[0m FMP_URL \u001b[38;5;241m=\u001b[39m \u001b[38;5;124m\"\u001b[39m\u001b[38;5;124mhttps://financialmodelingprep.com/api/v3\u001b[39m\u001b[38;5;124m\"\u001b[39m\n\u001b[0;32m      5\u001b[0m SYMBOL\u001b[38;5;241m=\u001b[39m\u001b[38;5;124m'\u001b[39m\u001b[38;5;124mAAPL\u001b[39m\u001b[38;5;124m'\u001b[39m\n\u001b[1;32m----> 7\u001b[0m ticker \u001b[38;5;241m=\u001b[39m \u001b[43myf\u001b[49m\u001b[38;5;241m.\u001b[39mTicker(SYMBOL)\n\u001b[0;32m      9\u001b[0m altman_lower_bound \u001b[38;5;241m=\u001b[39m \u001b[38;5;241m1.81\u001b[39m\n\u001b[0;32m     10\u001b[0m altman_upper_bound \u001b[38;5;241m=\u001b[39m \u001b[38;5;241m2.99\u001b[39m\n",
      "\u001b[1;31mNameError\u001b[0m: name 'yf' is not defined"
     ]
    }
   ],
   "source": [
    "#TODO: Make it so users have to input their own FMP API key\n",
    "FMP_API_KEY = \"zOWo5NgWst2Ill1VXevneIirrvWYgO3h\"\n",
    "FMP_API_KEY_FULL = \"apikey=zOWo5NgWst2Ill1VXevneIirrvWYgO3h\"\n",
    "FMP_URL = \"https://financialmodelingprep.com/api/v3\"\n",
    "SYMBOL='AAPL'\n",
    "\n",
    "ticker = yf.Ticker(SYMBOL)\n",
    "\n",
    "altman_public_lower_bound = 1.81\n",
    "altman_public_upper_bound = 2.99\n",
    "\n",
    "altman_private_lower_bound = 1.10\n",
    "altman_private_upper_bound = 2.60\n",
    "\n",
    "\n",
    "lookback = 1"
   ]
  },
  {
   "cell_type": "code",
   "execution_count": null,
   "metadata": {},
   "outputs": [],
   "source": [
    "def get_symbol_mkt_cap(symbol):\n",
    "    session = requests.Session()\n",
    "    request = f\"{FMP_URL}/market-capitalization/{symbol}?{FMP_API_KEY_FULL}\".replace(\" \", \"\")\n",
    "    \n",
    "    r = session.get(request)\n",
    "    df = None\n",
    "    if r.status_code == requests.codes.ok:\n",
    "        df = pd.DataFrame(json.loads(r.text))\n",
    "        print(\"market capitalization df: \" + str(df.__dataframe__))\n",
    "    else:\n",
    "        print(\"r.status_code is \" + str(r.status_code))\n",
    "        print(\"market capitalization is None\")\n",
    "            \n",
    "    return df\n"
   ]
  },
  {
   "cell_type": "code",
   "execution_count": null,
   "metadata": {},
   "outputs": [],
   "source": [
    "def get_balance_sheet(symbol, lookback):\n",
    "    # session = requests.Session()\n",
    "    # request = f\"{FMP_URL}/balance-sheet-statement/{symbol}?period=quarter&limit={lookback}&{FMP_API_KEY_FULL}\".replace(\" \", \"\")\n",
    "    \n",
    "    # r = session.get(request)\n",
    "    # df = None\n",
    "    # if r.status_code == requests.codes.ok:\n",
    "    #     df = pd.DataFrame(json.loads(r.text))\n",
    "    #     print(\"balance sheet statement df: \" + str(df.__dataframe__))\n",
    "    # else:\n",
    "    #     print(\"r.status_code is \" + str(r.status_code))\n",
    "    #     print(\"balance sheet statement is None\")\n",
    "        \n",
    "    # return df\n",
    "\n",
    "    return ticker.balance_sheet"
   ]
  },
  {
   "cell_type": "code",
   "execution_count": null,
   "metadata": {},
   "outputs": [],
   "source": [
    "def get_income_statement(symbol, lookback):\n",
    "    session = requests.Session()\n",
    "    request = f\"{FMP_URL}/income-statement/{symbol}?period=quarter&limit={lookback}&{FMP_API_KEY_FULL}\".replace(\" \", \"\")\n",
    "    \n",
    "    r = session.get(request)\n",
    "    df = None\n",
    "    if r.status_code == requests.codes.ok:\n",
    "        df = pd.DataFrame(json.loads(r.text))\n",
    "        print(\"income statement df: \" + str(df.__dataframe__))\n",
    "    else:\n",
    "        print(\"r.status_code is \" + str(r.status_code))\n",
    "        print(\"income statement is None\")\n",
    "        \n",
    "    return df"
   ]
  },
  {
   "cell_type": "code",
   "execution_count": null,
   "metadata": {},
   "outputs": [],
   "source": [
    "def get_key_metrics(symbol, lookback):\n",
    "    session = requests.Session()\n",
    "    request = f\"{FMP_URL}/key-metrics/{symbol}?period=quarter&datatype=json&limit={lookback}&{FMP_API_KEY_FULL}\".replace(\" \", \"\")\n",
    "    \n",
    "    r = session.get(request)\n",
    "    df = None\n",
    "    if r.status_code == requests.codes.ok:\n",
    "        df = pd.DataFrame(json.loads(r.text))\n",
    "        print(\"key metrics df: \" + str(df.__dataframe__))\n",
    "    else:\n",
    "        print(\"r.status_code is \" + str(r.status_code))\n",
    "        print(\"key metrics is None\")\n",
    "        \n",
    "    return df"
   ]
  },
  {
   "cell_type": "code",
   "execution_count": null,
   "metadata": {},
   "outputs": [
    {
     "name": "stdout",
     "output_type": "stream",
     "text": [
      "market capitalization df: <bound method DataFrame.__dataframe__ of   symbol        date      marketCap\n",
      "0   AAPL  2024-02-01  2867022807500>\n",
      "r.status_code is 403\n",
      "balance sheet statement is None\n",
      "r.status_code is 403\n",
      "income statement is None\n",
      "r.status_code is 403\n",
      "key metrics is None\n"
     ]
    }
   ],
   "source": [
    "market_cap = get_symbol_mkt_cap(symbol=SYMBOL)\n",
    "balance_sheet = get_balance_sheet(symbol=SYMBOL, lookback=lookback)\n",
    "income_statement = get_income_statement(symbol=SYMBOL, lookback=lookback)\n",
    "key_metrics = get_key_metrics(symbol=SYMBOL, lookback=lookback)"
   ]
  },
  {
   "cell_type": "code",
   "execution_count": null,
   "metadata": {},
   "outputs": [
    {
     "ename": "TypeError",
     "evalue": "'NoneType' object is not subscriptable",
     "output_type": "error",
     "traceback": [
      "\u001b[1;31m---------------------------------------------------------------------------\u001b[0m",
      "\u001b[1;31mTypeError\u001b[0m                                 Traceback (most recent call last)",
      "Cell \u001b[1;32mIn[47], line 1\u001b[0m\n\u001b[1;32m----> 1\u001b[0m A \u001b[38;5;241m=\u001b[39m \u001b[43mkey_metrics\u001b[49m\u001b[43m[\u001b[49m\u001b[38;5;124;43m\"\u001b[39;49m\u001b[38;5;124;43mworkingCapital\u001b[39;49m\u001b[38;5;124;43m\"\u001b[39;49m\u001b[43m]\u001b[49m \u001b[38;5;241m/\u001b[39m balance_sheet[\u001b[38;5;124m\"\u001b[39m\u001b[38;5;124mtotalAssets\u001b[39m\u001b[38;5;124m\"\u001b[39m]\n\u001b[0;32m      2\u001b[0m B \u001b[38;5;241m=\u001b[39m balance_sheet[\u001b[38;5;124m\"\u001b[39m\u001b[38;5;124mretainedEarnings\u001b[39m\u001b[38;5;124m\"\u001b[39m] \u001b[38;5;241m/\u001b[39m balance_sheet[\u001b[38;5;124m\"\u001b[39m\u001b[38;5;124mtotalAssets\u001b[39m\u001b[38;5;124m\"\u001b[39m]\n\u001b[0;32m      3\u001b[0m C \u001b[38;5;241m=\u001b[39m (income_statement[\u001b[38;5;124m\"\u001b[39m\u001b[38;5;124mebitda\u001b[39m\u001b[38;5;124m\"\u001b[39m] \u001b[38;5;241m-\u001b[39m income_statement[\u001b[38;5;124m'\u001b[39m\u001b[38;5;124mdepreciationAndAmortization\u001b[39m\u001b[38;5;124m'\u001b[39m]) \u001b[38;5;241m/\u001b[39m balance_sheet[\u001b[38;5;124m\"\u001b[39m\u001b[38;5;124mtotalAssets\u001b[39m\u001b[38;5;124m\"\u001b[39m]\n",
      "\u001b[1;31mTypeError\u001b[0m: 'NoneType' object is not subscriptable"
     ]
    }
   ],
   "source": [
    "A = key_metrics[\"workingCapital\"] / balance_sheet[\"totalAssets\"]\n",
    "B = balance_sheet[\"retainedEarnings\"] / balance_sheet[\"totalAssets\"]\n",
    "C = (income_statement[\"ebitda\"] - income_statement['depreciationAndAmortization']) / balance_sheet[\"totalAssets\"]\n",
    "D = market_cap['marketCap'] / balance_sheet[\"totalLiabilities\"]\n",
    "E = income_statement[\"revenue\"] / balance_sheet[\"totalAssets\"]"
   ]
  },
  {
   "cell_type": "code",
   "execution_count": null,
   "metadata": {},
   "outputs": [],
   "source": [
    "altman_zscore = 1.2*A + 1.4*B + 3.3*C + 0.6*D + 1.0*E\n",
    "print(f\"The Atltman Z-Score for {SYMBOL} is: {round(altman_zscore[0], 2)} \")"
   ]
  }
 ],
 "metadata": {
  "kernelspec": {
   "display_name": "Python 3",
   "language": "python",
   "name": "python3"
  },
  "language_info": {
   "codemirror_mode": {
    "name": "ipython",
    "version": 3
   },
   "file_extension": ".py",
   "mimetype": "text/x-python",
   "name": "python",
   "nbconvert_exporter": "python",
   "pygments_lexer": "ipython3",
   "version": "3.8.3"
  }
 },
 "nbformat": 4,
 "nbformat_minor": 2
}
