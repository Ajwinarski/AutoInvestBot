{
 "cells": [
  {
   "cell_type": "code",
   "execution_count": 2,
   "metadata": {},
   "outputs": [
    {
     "name": "stdout",
     "output_type": "stream",
     "text": [
      "Failed to get ticker 'AAPL' reason: HTTPSConnectionPool(host='query2.finance.yahoo.com', port=443): Max retries exceeded with url: /v8/finance/chart/AAPL?range=1d&interval=1d (Caused by NameResolutionError(\"<urllib3.connection.HTTPSConnection object at 0x0000025144FDFAC0>: Failed to resolve 'query2.finance.yahoo.com' ([Errno 11001] getaddrinfo failed)\"))\n",
      "- AAPL: No timezone found, symbol may be delisted\n"
     ]
    },
    {
     "ename": "AttributeError",
     "evalue": "'NoneType' object has no attribute 'set_index'",
     "output_type": "error",
     "traceback": [
      "\u001b[1;31m---------------------------------------------------------------------------\u001b[0m",
      "\u001b[1;31mAttributeError\u001b[0m                            Traceback (most recent call last)",
      "Cell \u001b[1;32mIn[2], line 13\u001b[0m\n\u001b[0;32m      9\u001b[0m df \u001b[38;5;241m=\u001b[39m df\u001b[38;5;241m.\u001b[39mta\u001b[38;5;241m.\u001b[39mticker(\u001b[38;5;124m\"\u001b[39m\u001b[38;5;124maapl\u001b[39m\u001b[38;5;124m\"\u001b[39m)\n\u001b[0;32m     11\u001b[0m \u001b[38;5;66;03m# VWAP requires the DataFrame index to be a DatetimeIndex.\u001b[39;00m\n\u001b[0;32m     12\u001b[0m \u001b[38;5;66;03m# Replace \"datetime\" with the appropriate column from your DataFrame\u001b[39;00m\n\u001b[1;32m---> 13\u001b[0m \u001b[43mdf\u001b[49m\u001b[38;5;241;43m.\u001b[39;49m\u001b[43mset_index\u001b[49m(pd\u001b[38;5;241m.\u001b[39mDatetimeIndex(df[\u001b[38;5;124m\"\u001b[39m\u001b[38;5;124mdatetime\u001b[39m\u001b[38;5;124m\"\u001b[39m]), inplace\u001b[38;5;241m=\u001b[39m\u001b[38;5;28;01mTrue\u001b[39;00m)\n\u001b[0;32m     15\u001b[0m \u001b[38;5;66;03m# Calculate Returns and append to the df DataFrame\u001b[39;00m\n\u001b[0;32m     16\u001b[0m df\u001b[38;5;241m.\u001b[39mta\u001b[38;5;241m.\u001b[39mlog_return(cumulative\u001b[38;5;241m=\u001b[39m\u001b[38;5;28;01mTrue\u001b[39;00m, append\u001b[38;5;241m=\u001b[39m\u001b[38;5;28;01mTrue\u001b[39;00m)\n",
      "\u001b[1;31mAttributeError\u001b[0m: 'NoneType' object has no attribute 'set_index'"
     ]
    }
   ],
   "source": [
    "import pandas as pd\n",
    "import pandas_ta as ta\n",
    "\n",
    "df = pd.DataFrame() # Empty DataFrame\n",
    "\n",
    "# Load data\n",
    "#df = pd.read_csv(\"path/to/symbol.csv\", sep=\",\")\n",
    "# OR if you have yfinance installed\n",
    "df = df.ta.ticker(\"aapl\")\n",
    "\n",
    "# VWAP requires the DataFrame index to be a DatetimeIndex.\n",
    "# Replace \"datetime\" with the appropriate column from your DataFrame\n",
    "df.set_index(pd.DatetimeIndex(df[\"datetime\"]), inplace=True)\n",
    "\n",
    "# Calculate Returns and append to the df DataFrame\n",
    "df.ta.log_return(cumulative=True, append=True)\n",
    "df.ta.percent_return(cumulative=True, append=True)\n",
    "\n",
    "# New Columns with results\n",
    "df.columns\n",
    "\n",
    "# Take a peek\n",
    "df.tail()\n",
    "\n",
    "# vv Continue Post Processing vv"
   ]
  }
 ],
 "metadata": {
  "kernelspec": {
   "display_name": "Python 3",
   "language": "python",
   "name": "python3"
  },
  "language_info": {
   "codemirror_mode": {
    "name": "ipython",
    "version": 3
   },
   "file_extension": ".py",
   "mimetype": "text/x-python",
   "name": "python",
   "nbconvert_exporter": "python",
   "pygments_lexer": "ipython3",
   "version": "3.8.3"
  }
 },
 "nbformat": 4,
 "nbformat_minor": 2
}
