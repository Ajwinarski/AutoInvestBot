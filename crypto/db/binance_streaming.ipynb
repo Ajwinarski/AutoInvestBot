{
 "cells": [
  {
   "cell_type": "code",
   "execution_count": 1,
   "metadata": {},
   "outputs": [],
   "source": [
    "import json\n",
    "import websocket\n",
    "import datetime\n",
    "\n",
    "\n",
    "def ws_trades():\n",
    "    socket = f'wss://stream.binance.com:9443/ws/ethusdt@trade'\n",
    "\n",
    "    def on_message(wsapp, message):\n",
    "        json_message = json.loads(message)\n",
    "        handle_trades(json_message)\n",
    "\n",
    "    def on_error(wsapp, error):\n",
    "        print(error)\n",
    "\n",
    "    wsapp = websocket.WebSocketApp(\n",
    "        socket, on_message=on_message, on_error=on_error)\n",
    "    wsapp.run_forever()\n",
    "\n",
    "\n",
    "def handle_trades(json_message):\n",
    "    date_time = datetime.datetime.fromtimestamp(\n",
    "        json_message['E']/1000).strftime('%Y-%m-%d %H:%M:%S')\n",
    "    print(\"SYMBOL: \"+json_message['s'])\n",
    "    print(\"PRICE: \"+json_message['p'])\n",
    "    print(\"QTY: \"+json_message['q'])\n",
    "    print(\"TIMESTAMP: \" + str(date_time))\n",
    "    print(\"-----------------------\")"
   ]
  },
  {
   "cell_type": "code",
   "execution_count": 2,
   "metadata": {},
   "outputs": [
    {
     "name": "stdout",
     "output_type": "stream",
     "text": [
      "Handshake status 451 None -+-+- {'server': 'awselb/2.0', 'date': 'Fri, 15 Mar 2024 01:57:14 GMT', 'content-length': '224', 'connection': 'keep-alive', 'content-type': 'application/json'} -+-+- b'{\\n  \"code\": 0,\\n  \"msg\": \"Service unavailable from a restricted location according to \\'b. Eligibility\\' in https://www.binance.com/en/terms. Please contact customer service if you believe you received this message in error.\"\\n}'\n"
     ]
    }
   ],
   "source": [
    "ws_trades()"
   ]
  }
 ],
 "metadata": {
  "kernelspec": {
   "display_name": "Python 3",
   "language": "python",
   "name": "python3"
  },
  "language_info": {
   "codemirror_mode": {
    "name": "ipython",
    "version": 3
   },
   "file_extension": ".py",
   "mimetype": "text/x-python",
   "name": "python",
   "nbconvert_exporter": "python",
   "pygments_lexer": "ipython3",
   "version": "3.11.4"
  }
 },
 "nbformat": 4,
 "nbformat_minor": 2
}
