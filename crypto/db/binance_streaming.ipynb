{
 "cells": [
  {
   "cell_type": "code",
   "execution_count": 1,
   "metadata": {},
   "outputs": [],
   "source": [
    "import json\n",
    "import websocket\n",
    "import datetime\n",
    "\n",
    "\n",
    "def ws_trades():\n",
    "    socket = f'wss://stream.binance.com:9443/ws/ethusdt@trade'\n",
    "\n",
    "    def on_message(wsapp, message):\n",
    "        json_message = json.loads(message)\n",
    "        handle_trades(json_message)\n",
    "\n",
    "    def on_error(wsapp, error):\n",
    "        print(error)\n",
    "\n",
    "    wsapp = websocket.WebSocketApp(\n",
    "        socket, on_message=on_message, on_error=on_error)\n",
    "    wsapp.run_forever()\n",
    "\n",
    "\n",
    "def handle_trades(json_message):\n",
    "    date_time = datetime.datetime.fromtimestamp(\n",
    "        json_message['E']/1000).strftime('%Y-%m-%d %H:%M:%S')\n",
    "    print(\"SYMBOL: \"+json_message['s'])\n",
    "    print(\"PRICE: \"+json_message['p'])\n",
    "    print(\"QTY: \"+json_message['q'])\n",
    "    print(\"TIMESTAMP: \" + str(date_time))\n",
    "    print(\"-----------------------\")"
   ]
  },
  {
   "cell_type": "code",
   "execution_count": 2,
   "metadata": {},
   "outputs": [
    {
     "ename": "AttributeError",
     "evalue": "module 'websocket' has no attribute 'WebSocketApp'",
     "output_type": "error",
     "traceback": [
      "\u001b[0;31m---------------------------------------------------------------------------\u001b[0m",
      "\u001b[0;31mAttributeError\u001b[0m                            Traceback (most recent call last)",
      "Cell \u001b[0;32mIn[2], line 1\u001b[0m\n\u001b[0;32m----> 1\u001b[0m \u001b[43mws_trades\u001b[49m\u001b[43m(\u001b[49m\u001b[43m)\u001b[49m\n",
      "Cell \u001b[0;32mIn[1], line 16\u001b[0m, in \u001b[0;36mws_trades\u001b[0;34m()\u001b[0m\n\u001b[1;32m     13\u001b[0m \u001b[38;5;28;01mdef\u001b[39;00m \u001b[38;5;21mon_error\u001b[39m(wsapp, error):\n\u001b[1;32m     14\u001b[0m     \u001b[38;5;28mprint\u001b[39m(error)\n\u001b[0;32m---> 16\u001b[0m wsapp \u001b[38;5;241m=\u001b[39m \u001b[43mwebsocket\u001b[49m\u001b[38;5;241;43m.\u001b[39;49m\u001b[43mWebSocketApp\u001b[49m(\n\u001b[1;32m     17\u001b[0m     socket, on_message\u001b[38;5;241m=\u001b[39mon_message, on_error\u001b[38;5;241m=\u001b[39mon_error)\n\u001b[1;32m     18\u001b[0m wsapp\u001b[38;5;241m.\u001b[39mrun_forever()\n",
      "\u001b[0;31mAttributeError\u001b[0m: module 'websocket' has no attribute 'WebSocketApp'"
     ]
    }
   ],
   "source": [
    "ws_trades()"
   ]
  }
 ],
 "metadata": {
  "kernelspec": {
   "display_name": "Python 3",
   "language": "python",
   "name": "python3"
  },
  "language_info": {
   "codemirror_mode": {
    "name": "ipython",
    "version": 3
   },
   "file_extension": ".py",
   "mimetype": "text/x-python",
   "name": "python",
   "nbconvert_exporter": "python",
   "pygments_lexer": "ipython3",
   "version": "3.8.5"
  }
 },
 "nbformat": 4,
 "nbformat_minor": 2
}
